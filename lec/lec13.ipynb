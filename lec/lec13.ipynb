{
 "cells": [
  {
   "cell_type": "code",
   "execution_count": 1,
   "metadata": {},
   "outputs": [],
   "source": [
    "from datascience import *\n",
    "import numpy as np\n",
    "%matplotlib inline\n",
    "import matplotlib.pyplot as plots\n",
    "plots.style.use('fivethirtyeight')"
   ]
  },
  {
   "cell_type": "markdown",
   "metadata": {},
   "source": [
    "# Lecture 13 Notebook\n",
    "\n",
    "In this lecture we introduce more complex boolean expressions, conditionals, and for loops."
   ]
  },
  {
   "cell_type": "markdown",
   "metadata": {},
   "source": [
    "<br><br><br><br>\n",
    "\n",
    "---\n",
    "\n",
    "## Boolean expressions\n",
    "\n",
    "We have already seen basic boolean expressions before"
   ]
  },
  {
   "cell_type": "code",
   "execution_count": 2,
   "metadata": {},
   "outputs": [
    {
     "data": {
      "text/plain": [
       "True"
      ]
     },
     "execution_count": 2,
     "metadata": {},
     "output_type": "execute_result"
    }
   ],
   "source": [
    "3 > 1"
   ]
  },
  {
   "cell_type": "code",
   "execution_count": 3,
   "metadata": {},
   "outputs": [
    {
     "data": {
      "text/plain": [
       "bool"
      ]
     },
     "execution_count": 3,
     "metadata": {},
     "output_type": "execute_result"
    }
   ],
   "source": [
    "type(3 > 1)"
   ]
  },
  {
   "cell_type": "code",
   "execution_count": 4,
   "metadata": {},
   "outputs": [
    {
     "data": {
      "text/plain": [
       "bool"
      ]
     },
     "execution_count": 4,
     "metadata": {},
     "output_type": "execute_result"
    }
   ],
   "source": [
    "type(True)"
   ]
  },
  {
   "cell_type": "markdown",
   "metadata": {
    "tags": [
     "raises-exception"
    ]
   },
   "source": [
    "Recall that single `=` is **assignment**.  Thus the following is an error:\n",
    "\n",
    "```python\n",
    "3 = 3.0\n",
    "```"
   ]
  },
  {
   "cell_type": "markdown",
   "metadata": {},
   "source": [
    "Equality:"
   ]
  },
  {
   "cell_type": "code",
   "execution_count": 5,
   "metadata": {},
   "outputs": [
    {
     "data": {
      "text/plain": [
       "True"
      ]
     },
     "execution_count": 5,
     "metadata": {},
     "output_type": "execute_result"
    }
   ],
   "source": [
    "3 == 3.0"
   ]
  },
  {
   "cell_type": "markdown",
   "metadata": {},
   "source": [
    "Inequality: "
   ]
  },
  {
   "cell_type": "code",
   "execution_count": 6,
   "metadata": {},
   "outputs": [
    {
     "data": {
      "text/plain": [
       "True"
      ]
     },
     "execution_count": 6,
     "metadata": {},
     "output_type": "execute_result"
    }
   ],
   "source": [
    "10 != 2"
   ]
  },
  {
   "cell_type": "markdown",
   "metadata": {},
   "source": [
    "Using variables in boolean expressions:"
   ]
  },
  {
   "cell_type": "code",
   "execution_count": 7,
   "metadata": {},
   "outputs": [],
   "source": [
    "x = 14\n",
    "y = 3"
   ]
  },
  {
   "cell_type": "code",
   "execution_count": 8,
   "metadata": {},
   "outputs": [
    {
     "data": {
      "text/plain": [
       "False"
      ]
     },
     "execution_count": 8,
     "metadata": {},
     "output_type": "execute_result"
    }
   ],
   "source": [
    "x > 15"
   ]
  },
  {
   "cell_type": "code",
   "execution_count": 9,
   "metadata": {},
   "outputs": [
    {
     "data": {
      "text/plain": [
       "True"
      ]
     },
     "execution_count": 9,
     "metadata": {},
     "output_type": "execute_result"
    }
   ],
   "source": [
    "12 < x"
   ]
  },
  {
   "cell_type": "code",
   "execution_count": 10,
   "metadata": {},
   "outputs": [
    {
     "data": {
      "text/plain": [
       "True"
      ]
     },
     "execution_count": 10,
     "metadata": {},
     "output_type": "execute_result"
    }
   ],
   "source": [
    "x < 20"
   ]
  },
  {
   "cell_type": "markdown",
   "metadata": {},
   "source": [
    "Compound boolean expressions:"
   ]
  },
  {
   "cell_type": "code",
   "execution_count": 11,
   "metadata": {},
   "outputs": [
    {
     "data": {
      "text/plain": [
       "True"
      ]
     },
     "execution_count": 11,
     "metadata": {},
     "output_type": "execute_result"
    }
   ],
   "source": [
    "12 < x < 20"
   ]
  },
  {
   "cell_type": "markdown",
   "metadata": {},
   "source": [
    "(The comparison `12 < x < 20` is equivalent to `12 < x and x < 20`.)"
   ]
  },
  {
   "cell_type": "code",
   "execution_count": 12,
   "metadata": {},
   "outputs": [
    {
     "data": {
      "text/plain": [
       "True"
      ]
     },
     "execution_count": 12,
     "metadata": {},
     "output_type": "execute_result"
    }
   ],
   "source": [
    "12 < x and x < 20"
   ]
  },
  {
   "cell_type": "code",
   "execution_count": 13,
   "metadata": {},
   "outputs": [
    {
     "data": {
      "text/plain": [
       "True"
      ]
     },
     "execution_count": 13,
     "metadata": {},
     "output_type": "execute_result"
    }
   ],
   "source": [
    "x > 13 and y < 3.14159"
   ]
  },
  {
   "cell_type": "code",
   "execution_count": 14,
   "metadata": {},
   "outputs": [
    {
     "data": {
      "text/plain": [
       "True"
      ]
     },
     "execution_count": 14,
     "metadata": {},
     "output_type": "execute_result"
    }
   ],
   "source": [
    "10 < x-y < 13"
   ]
  },
  {
   "cell_type": "markdown",
   "metadata": {},
   "source": [
    "<br><br>\n",
    "\n",
    "---\n",
    "\n",
    "<center> return to slides </center>\n",
    "\n",
    "---"
   ]
  },
  {
   "cell_type": "markdown",
   "metadata": {},
   "source": [
    "<br><br><br><br>\n",
    "\n",
    "---\n",
    "\n",
    "## Boolean Expressions with Arrays\n",
    "\n",
    "Just as arrays can be used in mathematical expressions we can also apply boolean operations to arrays.  They are applied element-wise."
   ]
  },
  {
   "cell_type": "code",
   "execution_count": 28,
   "metadata": {},
   "outputs": [
    {
     "data": {
      "text/plain": [
       "array(['cat', 'cat', 'dog', 'cat', 'dog', 'rabbit'],\n",
       "      dtype='<U6')"
      ]
     },
     "execution_count": 28,
     "metadata": {},
     "output_type": "execute_result"
    }
   ],
   "source": [
    "pets = make_array('cat', 'cat', 'dog', 'cat', 'dog', 'rabbit')\n",
    "pets"
   ]
  },
  {
   "cell_type": "code",
   "execution_count": 29,
   "metadata": {},
   "outputs": [
    {
     "data": {
      "text/plain": [
       "array([ True,  True, False,  True, False, False], dtype=bool)"
      ]
     },
     "execution_count": 29,
     "metadata": {},
     "output_type": "execute_result"
    }
   ],
   "source": [
    "pets == 'cat'"
   ]
  },
  {
   "cell_type": "markdown",
   "metadata": {},
   "source": [
    "How many cats?"
   ]
  },
  {
   "cell_type": "code",
   "execution_count": 17,
   "metadata": {},
   "outputs": [
    {
     "data": {
      "text/plain": [
       "3"
      ]
     },
     "execution_count": 17,
     "metadata": {},
     "output_type": "execute_result"
    }
   ],
   "source": [
    "sum(pets == 'cat')"
   ]
  },
  {
   "cell_type": "markdown",
   "metadata": {},
   "source": [
    "Math with booleans"
   ]
  },
  {
   "cell_type": "code",
   "execution_count": 18,
   "metadata": {},
   "outputs": [
    {
     "data": {
      "text/plain": [
       "array([ True,  True, False,  True, False, False], dtype=bool)"
      ]
     },
     "execution_count": 18,
     "metadata": {},
     "output_type": "execute_result"
    }
   ],
   "source": [
    "is_cat = pets == \"cat\"\n",
    "is_cat"
   ]
  },
  {
   "cell_type": "code",
   "execution_count": 19,
   "metadata": {},
   "outputs": [
    {
     "data": {
      "text/plain": [
       "array([ 1,  1, -1,  1, -1, -1])"
      ]
     },
     "execution_count": 19,
     "metadata": {},
     "output_type": "execute_result"
    }
   ],
   "source": [
    "is_cat * 2 - 1"
   ]
  },
  {
   "cell_type": "code",
   "execution_count": 20,
   "metadata": {},
   "outputs": [
    {
     "data": {
      "text/plain": [
       "0.5"
      ]
     },
     "execution_count": 20,
     "metadata": {},
     "output_type": "execute_result"
    }
   ],
   "source": [
    "np.mean(is_cat)"
   ]
  },
  {
   "cell_type": "markdown",
   "metadata": {},
   "source": [
    "<br><br>\n",
    "\n",
    "---\n",
    "\n",
    "<center> return to slides </center>\n",
    "\n",
    "---\n",
    "\n",
    "<br><br>"
   ]
  },
  {
   "cell_type": "markdown",
   "metadata": {},
   "source": [
    "<br><br><br><br>\n",
    "\n",
    "---\n",
    "## Rows & Apply\n",
    "\n",
    "Just as we can access individual columns in a table we can also access individual rows. "
   ]
  },
  {
   "cell_type": "code",
   "execution_count": 21,
   "metadata": {},
   "outputs": [
    {
     "data": {
      "text/html": [
       "<table border=\"1\" class=\"dataframe\">\n",
       "    <thead>\n",
       "        <tr>\n",
       "            <th>Year</th> <th>Extraversion</th> <th>Number of textees</th> <th>Hours of sleep</th> <th>Handedness</th> <th>Pant leg</th> <th>Sleep position</th> <th>Pets</th> <th>Piercings</th>\n",
       "        </tr>\n",
       "    </thead>\n",
       "    <tbody>\n",
       "        <tr>\n",
       "            <td>Second Year</td> <td>2           </td> <td>5                </td> <td>9             </td> <td>Right-handed</td> <td>Right leg in first</td> <td>On your right side</td> <td>Cat, Dog, Fish, Snake, Lizard</td> <td>-3       </td>\n",
       "        </tr>\n",
       "        <tr>\n",
       "            <td>First Year </td> <td>2           </td> <td>3                </td> <td>8             </td> <td>Right-handed</td> <td>I don't know      </td> <td>On your back      </td> <td>None                         </td> <td>-1       </td>\n",
       "        </tr>\n",
       "        <tr>\n",
       "            <td>First Year </td> <td>5           </td> <td>5                </td> <td>8             </td> <td>Right-handed</td> <td>Right leg in first</td> <td>On your left side </td> <td>Bearded dragon               </td> <td>0        </td>\n",
       "        </tr>\n",
       "    </tbody>\n",
       "</table>\n",
       "<p>... (1498 rows omitted)</p>"
      ],
      "text/plain": [
       "<IPython.core.display.HTML object>"
      ]
     },
     "metadata": {},
     "output_type": "display_data"
    }
   ],
   "source": [
    "survey = Table.read_table('welcome_survey_sp23.csv')\n",
    "survey.show(3)"
   ]
  },
  {
   "cell_type": "code",
   "execution_count": 22,
   "metadata": {},
   "outputs": [
    {
     "data": {
      "text/plain": [
       "Row(Year='Second Year', Extraversion=2, Number of textees=5, Hours of sleep=9.0, Handedness='Right-handed', Pant leg='Right leg in first', Sleep position='On your right side', Pets='Cat, Dog, Fish, Snake, Lizard', Piercings=-3)"
      ]
     },
     "execution_count": 22,
     "metadata": {},
     "output_type": "execute_result"
    }
   ],
   "source": [
    "r = survey.row(0)\n",
    "r"
   ]
  },
  {
   "cell_type": "code",
   "execution_count": 23,
   "metadata": {},
   "outputs": [
    {
     "data": {
      "text/plain": [
       "datascience.tables.Row"
      ]
     },
     "execution_count": 23,
     "metadata": {},
     "output_type": "execute_result"
    }
   ],
   "source": [
    "type(r)"
   ]
  },
  {
   "cell_type": "markdown",
   "metadata": {},
   "source": [
    "Getting a field from a row"
   ]
  },
  {
   "cell_type": "code",
   "execution_count": 24,
   "metadata": {},
   "outputs": [
    {
     "data": {
      "text/plain": [
       "'Second Year'"
      ]
     },
     "execution_count": 24,
     "metadata": {},
     "output_type": "execute_result"
    }
   ],
   "source": [
    "r.item('Year')"
   ]
  },
  {
   "cell_type": "markdown",
   "metadata": {},
   "source": [
    "### Math On Rows"
   ]
  },
  {
   "cell_type": "markdown",
   "metadata": {},
   "source": [
    "Suppose we get a row that contains only numbers:"
   ]
  },
  {
   "cell_type": "code",
   "execution_count": 25,
   "metadata": {},
   "outputs": [
    {
     "data": {
      "text/plain": [
       "Row(Extraversion=5, Number of textees=5, Hours of sleep=8.0)"
      ]
     },
     "execution_count": 25,
     "metadata": {},
     "output_type": "execute_result"
    }
   ],
   "source": [
    "r2 = survey.select(\"Extraversion\", \"Number of textees\", \"Hours of sleep\").row(2)\n",
    "r2"
   ]
  },
  {
   "cell_type": "markdown",
   "metadata": {},
   "source": [
    "We can apply aggregation functions to that row"
   ]
  },
  {
   "cell_type": "code",
   "execution_count": 26,
   "metadata": {},
   "outputs": [
    {
     "data": {
      "text/plain": [
       "18.0"
      ]
     },
     "execution_count": 26,
     "metadata": {},
     "output_type": "execute_result"
    }
   ],
   "source": [
    "sum(r2)"
   ]
  },
  {
   "cell_type": "markdown",
   "metadata": {},
   "source": [
    "Recall that if we wanted to **apply** a function to all the rows of a table we use `apply`"
   ]
  },
  {
   "cell_type": "code",
   "execution_count": 27,
   "metadata": {},
   "outputs": [
    {
     "data": {
      "text/plain": [
       "array([ 16.,  13.,  18., ...,  20.,  29.,  14.])"
      ]
     },
     "execution_count": 27,
     "metadata": {},
     "output_type": "execute_result"
    }
   ],
   "source": [
    "(\n",
    "    survey\n",
    "    .select(\"Extraversion\", \"Number of textees\", \"Hours of sleep\")\n",
    "    .apply(sum)\n",
    ")\n"
   ]
  },
  {
   "cell_type": "markdown",
   "metadata": {},
   "source": [
    "Let's use this insight to improve our pivot table:"
   ]
  },
  {
   "cell_type": "code",
   "execution_count": 28,
   "metadata": {},
   "outputs": [
    {
     "data": {
      "text/html": [
       "<table border=\"1\" class=\"dataframe\">\n",
       "    <thead>\n",
       "        <tr>\n",
       "            <th>Hours of sleep</th> <th>On your back</th> <th>On your left side</th> <th>On your right side</th> <th>On your stomach</th>\n",
       "        </tr>\n",
       "    </thead>\n",
       "    <tbody>\n",
       "        <tr>\n",
       "            <td>3             </td> <td>1           </td> <td>2                </td> <td>0                 </td> <td>1              </td>\n",
       "        </tr>\n",
       "        <tr>\n",
       "            <td>4             </td> <td>2           </td> <td>4                </td> <td>2                 </td> <td>1              </td>\n",
       "        </tr>\n",
       "        <tr>\n",
       "            <td>4.5           </td> <td>0           </td> <td>0                </td> <td>1                 </td> <td>0              </td>\n",
       "        </tr>\n",
       "        <tr>\n",
       "            <td>5             </td> <td>19          </td> <td>11               </td> <td>25                </td> <td>7              </td>\n",
       "        </tr>\n",
       "        <tr>\n",
       "            <td>5.5           </td> <td>0           </td> <td>0                </td> <td>1                 </td> <td>0              </td>\n",
       "        </tr>\n",
       "        <tr>\n",
       "            <td>6             </td> <td>71          </td> <td>95               </td> <td>102               </td> <td>25             </td>\n",
       "        </tr>\n",
       "        <tr>\n",
       "            <td>6.5           </td> <td>8           </td> <td>11               </td> <td>4                 </td> <td>0              </td>\n",
       "        </tr>\n",
       "        <tr>\n",
       "            <td>7             </td> <td>123         </td> <td>165              </td> <td>210               </td> <td>68             </td>\n",
       "        </tr>\n",
       "        <tr>\n",
       "            <td>7.5           </td> <td>7           </td> <td>10               </td> <td>20                </td> <td>7              </td>\n",
       "        </tr>\n",
       "        <tr>\n",
       "            <td>8             </td> <td>107         </td> <td>116              </td> <td>137               </td> <td>53             </td>\n",
       "        </tr>\n",
       "        <tr>\n",
       "            <td>8.5           </td> <td>2           </td> <td>2                </td> <td>0                 </td> <td>1              </td>\n",
       "        </tr>\n",
       "        <tr>\n",
       "            <td>9             </td> <td>17          </td> <td>17               </td> <td>17                </td> <td>9              </td>\n",
       "        </tr>\n",
       "        <tr>\n",
       "            <td>9.5           </td> <td>0           </td> <td>1                </td> <td>0                 </td> <td>0              </td>\n",
       "        </tr>\n",
       "        <tr>\n",
       "            <td>10            </td> <td>5           </td> <td>5                </td> <td>5                 </td> <td>2              </td>\n",
       "        </tr>\n",
       "        <tr>\n",
       "            <td>12            </td> <td>1           </td> <td>0                </td> <td>0                 </td> <td>0              </td>\n",
       "        </tr>\n",
       "        <tr>\n",
       "            <td>15            </td> <td>0           </td> <td>0                </td> <td>0                 </td> <td>1              </td>\n",
       "        </tr>\n",
       "    </tbody>\n",
       "</table>"
      ],
      "text/plain": [
       "<IPython.core.display.HTML object>"
      ]
     },
     "metadata": {},
     "output_type": "display_data"
    }
   ],
   "source": [
    "p = survey.pivot(\"Sleep position\", \"Hours of sleep\")\n",
    "p.show()"
   ]
  },
  {
   "cell_type": "markdown",
   "metadata": {},
   "source": [
    "<br><br><br>\n",
    "**Exercise:** Add the row totals to the table:"
   ]
  },
  {
   "cell_type": "code",
   "execution_count": 29,
   "metadata": {},
   "outputs": [
    {
     "data": {
      "text/html": [
       "<table border=\"1\" class=\"dataframe\">\n",
       "    <thead>\n",
       "        <tr>\n",
       "            <th>Hours of sleep</th> <th>On your back</th> <th>On your left side</th> <th>On your right side</th> <th>On your stomach</th> <th>Total</th>\n",
       "        </tr>\n",
       "    </thead>\n",
       "    <tbody>\n",
       "        <tr>\n",
       "            <td>3             </td> <td>1           </td> <td>2                </td> <td>0                 </td> <td>1              </td> <td>4    </td>\n",
       "        </tr>\n",
       "        <tr>\n",
       "            <td>4             </td> <td>2           </td> <td>4                </td> <td>2                 </td> <td>1              </td> <td>9    </td>\n",
       "        </tr>\n",
       "        <tr>\n",
       "            <td>4.5           </td> <td>0           </td> <td>0                </td> <td>1                 </td> <td>0              </td> <td>1    </td>\n",
       "        </tr>\n",
       "        <tr>\n",
       "            <td>5             </td> <td>19          </td> <td>11               </td> <td>25                </td> <td>7              </td> <td>62   </td>\n",
       "        </tr>\n",
       "        <tr>\n",
       "            <td>5.5           </td> <td>0           </td> <td>0                </td> <td>1                 </td> <td>0              </td> <td>1    </td>\n",
       "        </tr>\n",
       "        <tr>\n",
       "            <td>6             </td> <td>71          </td> <td>95               </td> <td>102               </td> <td>25             </td> <td>293  </td>\n",
       "        </tr>\n",
       "        <tr>\n",
       "            <td>6.5           </td> <td>8           </td> <td>11               </td> <td>4                 </td> <td>0              </td> <td>23   </td>\n",
       "        </tr>\n",
       "        <tr>\n",
       "            <td>7             </td> <td>123         </td> <td>165              </td> <td>210               </td> <td>68             </td> <td>566  </td>\n",
       "        </tr>\n",
       "        <tr>\n",
       "            <td>7.5           </td> <td>7           </td> <td>10               </td> <td>20                </td> <td>7              </td> <td>44   </td>\n",
       "        </tr>\n",
       "        <tr>\n",
       "            <td>8             </td> <td>107         </td> <td>116              </td> <td>137               </td> <td>53             </td> <td>413  </td>\n",
       "        </tr>\n",
       "        <tr>\n",
       "            <td>8.5           </td> <td>2           </td> <td>2                </td> <td>0                 </td> <td>1              </td> <td>5    </td>\n",
       "        </tr>\n",
       "        <tr>\n",
       "            <td>9             </td> <td>17          </td> <td>17               </td> <td>17                </td> <td>9              </td> <td>60   </td>\n",
       "        </tr>\n",
       "        <tr>\n",
       "            <td>9.5           </td> <td>0           </td> <td>1                </td> <td>0                 </td> <td>0              </td> <td>1    </td>\n",
       "        </tr>\n",
       "        <tr>\n",
       "            <td>10            </td> <td>5           </td> <td>5                </td> <td>5                 </td> <td>2              </td> <td>17   </td>\n",
       "        </tr>\n",
       "        <tr>\n",
       "            <td>12            </td> <td>1           </td> <td>0                </td> <td>0                 </td> <td>0              </td> <td>1    </td>\n",
       "        </tr>\n",
       "        <tr>\n",
       "            <td>15            </td> <td>0           </td> <td>0                </td> <td>0                 </td> <td>1              </td> <td>1    </td>\n",
       "        </tr>\n",
       "    </tbody>\n",
       "</table>"
      ],
      "text/plain": [
       "<IPython.core.display.HTML object>"
      ]
     },
     "metadata": {},
     "output_type": "display_data"
    }
   ],
   "source": [
    "p.with_column(\"Total\", p.drop(\"Hours of sleep\").apply(np.sum)).show()"
   ]
  },
  {
   "cell_type": "markdown",
   "metadata": {},
   "source": [
    "<details><summary>Click for Solution</summary>\n",
    "\n",
    "```python\n",
    "p.with_column(\"Total\", p.drop(\"Hours of sleep\").apply(np.sum)).show()\n",
    "```\n",
    "\n",
    "</details>"
   ]
  },
  {
   "cell_type": "markdown",
   "metadata": {},
   "source": [
    "<br><br><br>\n",
    "**Exercise:** Do the same thing with a `group` and a `join`:"
   ]
  },
  {
   "cell_type": "code",
   "execution_count": 30,
   "metadata": {},
   "outputs": [
    {
     "data": {
      "text/html": [
       "<table border=\"1\" class=\"dataframe\">\n",
       "    <thead>\n",
       "        <tr>\n",
       "            <th>Hours of sleep</th> <th>On your back</th> <th>On your left side</th> <th>On your right side</th> <th>On your stomach</th> <th>count</th>\n",
       "        </tr>\n",
       "    </thead>\n",
       "    <tbody>\n",
       "        <tr>\n",
       "            <td>3             </td> <td>1           </td> <td>2                </td> <td>0                 </td> <td>1              </td> <td>4    </td>\n",
       "        </tr>\n",
       "        <tr>\n",
       "            <td>4             </td> <td>2           </td> <td>4                </td> <td>2                 </td> <td>1              </td> <td>9    </td>\n",
       "        </tr>\n",
       "        <tr>\n",
       "            <td>4.5           </td> <td>0           </td> <td>0                </td> <td>1                 </td> <td>0              </td> <td>1    </td>\n",
       "        </tr>\n",
       "        <tr>\n",
       "            <td>5             </td> <td>19          </td> <td>11               </td> <td>25                </td> <td>7              </td> <td>62   </td>\n",
       "        </tr>\n",
       "        <tr>\n",
       "            <td>5.5           </td> <td>0           </td> <td>0                </td> <td>1                 </td> <td>0              </td> <td>1    </td>\n",
       "        </tr>\n",
       "        <tr>\n",
       "            <td>6             </td> <td>71          </td> <td>95               </td> <td>102               </td> <td>25             </td> <td>293  </td>\n",
       "        </tr>\n",
       "        <tr>\n",
       "            <td>6.5           </td> <td>8           </td> <td>11               </td> <td>4                 </td> <td>0              </td> <td>23   </td>\n",
       "        </tr>\n",
       "        <tr>\n",
       "            <td>7             </td> <td>123         </td> <td>165              </td> <td>210               </td> <td>68             </td> <td>566  </td>\n",
       "        </tr>\n",
       "        <tr>\n",
       "            <td>7.5           </td> <td>7           </td> <td>10               </td> <td>20                </td> <td>7              </td> <td>44   </td>\n",
       "        </tr>\n",
       "        <tr>\n",
       "            <td>8             </td> <td>107         </td> <td>116              </td> <td>137               </td> <td>53             </td> <td>413  </td>\n",
       "        </tr>\n",
       "        <tr>\n",
       "            <td>8.5           </td> <td>2           </td> <td>2                </td> <td>0                 </td> <td>1              </td> <td>5    </td>\n",
       "        </tr>\n",
       "        <tr>\n",
       "            <td>9             </td> <td>17          </td> <td>17               </td> <td>17                </td> <td>9              </td> <td>60   </td>\n",
       "        </tr>\n",
       "        <tr>\n",
       "            <td>9.5           </td> <td>0           </td> <td>1                </td> <td>0                 </td> <td>0              </td> <td>1    </td>\n",
       "        </tr>\n",
       "        <tr>\n",
       "            <td>10            </td> <td>5           </td> <td>5                </td> <td>5                 </td> <td>2              </td> <td>17   </td>\n",
       "        </tr>\n",
       "        <tr>\n",
       "            <td>12            </td> <td>1           </td> <td>0                </td> <td>0                 </td> <td>0              </td> <td>1    </td>\n",
       "        </tr>\n",
       "        <tr>\n",
       "            <td>15            </td> <td>0           </td> <td>0                </td> <td>0                 </td> <td>1              </td> <td>1    </td>\n",
       "        </tr>\n",
       "    </tbody>\n",
       "</table>"
      ],
      "text/plain": [
       "<IPython.core.display.HTML object>"
      ]
     },
     "metadata": {},
     "output_type": "display_data"
    }
   ],
   "source": [
    "p.join(\"Hours of sleep\", survey.group(\"Hours of sleep\")).show()"
   ]
  },
  {
   "cell_type": "markdown",
   "metadata": {},
   "source": [
    "<details><summary>Click for Solution</summary>\n",
    "    \n",
    "```python\n",
    "p.join(\"Hours of sleep\", survey.group(\"Hours of sleep\")).show()\n",
    "```\n",
    "\n",
    "</details>"
   ]
  },
  {
   "cell_type": "markdown",
   "metadata": {},
   "source": [
    "<br><br>\n",
    "\n",
    "---\n",
    "\n",
    "<center> return to slides </center>\n",
    "\n",
    "---\n",
    "\n",
    "<br><br>"
   ]
  },
  {
   "cell_type": "markdown",
   "metadata": {},
   "source": [
    "<br><br><br><br>\n",
    "\n",
    "---\n",
    "\n",
    "## Conditional Statements\n",
    "\n",
    "Conditional statements in python allow us to do different things based on the values in our data"
   ]
  },
  {
   "cell_type": "code",
   "execution_count": 31,
   "metadata": {},
   "outputs": [],
   "source": [
    "x = 20"
   ]
  },
  {
   "cell_type": "markdown",
   "metadata": {},
   "source": [
    "If the value of x is greater than or equal to 18 then print 'You can legally vote.'"
   ]
  },
  {
   "cell_type": "code",
   "execution_count": 32,
   "metadata": {},
   "outputs": [
    {
     "name": "stdout",
     "output_type": "stream",
     "text": [
      "You can legally vote.\n"
     ]
    }
   ],
   "source": [
    "if x >= 18:\n",
    "    print('You can legally vote.')"
   ]
  },
  {
   "cell_type": "markdown",
   "metadata": {},
   "source": [
    "Conditionals consist of two main parts:\n",
    "\n",
    "```python\n",
    "\n",
    "if boolean expression here :\n",
    "    # body of the if statement goes here and must be indented\n",
    "```\n",
    "\n",
    "Notice than if the boolean expression is False than the body of the if statement is not executed:"
   ]
  },
  {
   "cell_type": "code",
   "execution_count": 33,
   "metadata": {},
   "outputs": [
    {
     "name": "stdout",
     "output_type": "stream",
     "text": [
      "Can you drink?\n",
      "This is run\n",
      "The value of x is 20\n"
     ]
    }
   ],
   "source": [
    "print(\"Can you drink?\")\n",
    "\n",
    "if x >= 21:\n",
    "    print('You can legally drink.')\n",
    "    print(\"This line of code is never run...\")\n",
    "    x = 0\n",
    "\n",
    "print(\"This is run\")\n",
    "print(\"The value of x is\", x)"
   ]
  },
  {
   "cell_type": "markdown",
   "metadata": {},
   "source": [
    "Sometimes you want to do something else if the first statement wasn't true:"
   ]
  },
  {
   "cell_type": "code",
   "execution_count": 34,
   "metadata": {},
   "outputs": [
    {
     "name": "stdout",
     "output_type": "stream",
     "text": [
      "You can legally vote.\n"
     ]
    }
   ],
   "source": [
    "if x >= 21:\n",
    "    print('You can legally vote and drink.')\n",
    "elif x >= 18:\n",
    "    print('You can legally vote.')\n",
    "else:\n",
    "    print('You can legally drink milk.')"
   ]
  },
  {
   "cell_type": "markdown",
   "metadata": {},
   "source": [
    "Implementing a function with conditionals and muliple return values:"
   ]
  },
  {
   "cell_type": "code",
   "execution_count": 35,
   "metadata": {},
   "outputs": [],
   "source": [
    "def age(x):\n",
    "    if x >= 21:\n",
    "        return 'You can legally vote and drink.'\n",
    "    elif x >= 18:\n",
    "        return 'You can legally vote.'\n",
    "    else:\n",
    "        return 'You can legally drink milk.'"
   ]
  },
  {
   "cell_type": "code",
   "execution_count": 36,
   "metadata": {},
   "outputs": [
    {
     "data": {
      "text/plain": [
       "'You can legally drink milk.'"
      ]
     },
     "execution_count": 36,
     "metadata": {},
     "output_type": "execute_result"
    }
   ],
   "source": [
    "age(3)"
   ]
  },
  {
   "cell_type": "code",
   "execution_count": 37,
   "metadata": {},
   "outputs": [
    {
     "data": {
      "text/plain": [
       "'You can legally vote.'"
      ]
     },
     "execution_count": 37,
     "metadata": {},
     "output_type": "execute_result"
    }
   ],
   "source": [
    "age(20)"
   ]
  },
  {
   "cell_type": "code",
   "execution_count": 38,
   "metadata": {},
   "outputs": [
    {
     "data": {
      "text/plain": [
       "'You can legally vote and drink.'"
      ]
     },
     "execution_count": 38,
     "metadata": {},
     "output_type": "execute_result"
    }
   ],
   "source": [
    "age(23)"
   ]
  },
  {
   "cell_type": "code",
   "execution_count": 39,
   "metadata": {},
   "outputs": [],
   "source": [
    "def bet_on_one_roll():\n",
    "    \"\"\"Returns my net gain on one bet\"\"\"\n",
    "    x = np.random.choice(np.arange(1, 7))  # roll a die once and record the number of spots\n",
    "    if x <= 2:\n",
    "        return -1\n",
    "    elif x <= 4:\n",
    "        return 0\n",
    "    elif x <= 6:\n",
    "        return 1"
   ]
  },
  {
   "cell_type": "code",
   "execution_count": 65,
   "metadata": {},
   "outputs": [],
   "source": [
    "outcomes = make_array()\n",
    "\n",
    "for i in np.arange(300):\n",
    "    outcome_of_bet = bet_on_one_roll()\n",
    "    outcomes = np.append(outcomes, outcome_of_bet)"
   ]
  },
  {
   "cell_type": "code",
   "execution_count": 70,
   "metadata": {},
   "outputs": [
    {
     "data": {
      "image/png": "[encoded data removed]",
      "text/plain": [
       "<Figure size 600x400 with 1 Axes>"
      ]
     },
     "metadata": {},
     "output_type": "display_data"
    }
   ],
   "source": [
    "a = Table().with_column('outcome', outcomes)\n",
    "a.group('outcome').barh(0)"
   ]
  },
  {
   "cell_type": "markdown",
   "metadata": {},
   "source": [
    "<br><br><br>\n",
    "### Putting the peices together\n",
    "\n",
    "Here we will build a function that returns whether a trip was one way or a round trip:"
   ]
  },
  {
   "cell_type": "code",
   "execution_count": 39,
   "metadata": {},
   "outputs": [
    {
     "data": {
      "text/html": [
       "<table border=\"1\" class=\"dataframe\">\n",
       "    <thead>\n",
       "        <tr>\n",
       "            <th>Trip ID</th> <th>Duration</th> <th>Start Date</th> <th>Start Station</th> <th>Start Terminal</th> <th>End Date</th> <th>End Station</th> <th>End Terminal</th> <th>Bike #</th> <th>Subscriber Type</th> <th>Zip Code</th>\n",
       "        </tr>\n",
       "    </thead>\n",
       "    <tbody>\n",
       "        <tr>\n",
       "            <td>913460 </td> <td>765     </td> <td>8/31/2015 23:26</td> <td>Harry Bridges Plaza (Ferry Building)</td> <td>50            </td> <td>8/31/2015 23:39</td> <td>San Francisco Caltrain (Townsend at 4th)</td> <td>70          </td> <td>288   </td> <td>Subscriber     </td> <td>2139    </td>\n",
       "        </tr>\n",
       "        <tr>\n",
       "            <td>913459 </td> <td>1036    </td> <td>8/31/2015 23:11</td> <td>San Antonio Shopping Center         </td> <td>31            </td> <td>8/31/2015 23:28</td> <td>Mountain View City Hall                 </td> <td>27          </td> <td>35    </td> <td>Subscriber     </td> <td>95032   </td>\n",
       "        </tr>\n",
       "        <tr>\n",
       "            <td>913455 </td> <td>307     </td> <td>8/31/2015 23:13</td> <td>Post at Kearny                      </td> <td>47            </td> <td>8/31/2015 23:18</td> <td>2nd at South Park                       </td> <td>64          </td> <td>468   </td> <td>Subscriber     </td> <td>94107   </td>\n",
       "        </tr>\n",
       "    </tbody>\n",
       "</table>\n",
       "<p>... (354149 rows omitted)</p>"
      ],
      "text/plain": [
       "<IPython.core.display.HTML object>"
      ]
     },
     "metadata": {},
     "output_type": "display_data"
    }
   ],
   "source": [
    "trip = Table().read_table('trip.csv')\n",
    "trip.show(3)"
   ]
  },
  {
   "cell_type": "code",
   "execution_count": 40,
   "metadata": {},
   "outputs": [],
   "source": [
    "def trip_kind(start, end):\n",
    "    if start == end:\n",
    "        return 'round trip'\n",
    "    else:\n",
    "        return 'one way'"
   ]
  },
  {
   "cell_type": "code",
   "execution_count": 41,
   "metadata": {},
   "outputs": [
    {
     "data": {
      "text/html": [
       "<table border=\"1\" class=\"dataframe\">\n",
       "    <thead>\n",
       "        <tr>\n",
       "            <th>Trip ID</th> <th>Duration</th> <th>Start Date</th> <th>Start Station</th> <th>Start Terminal</th> <th>End Date</th> <th>End Station</th> <th>End Terminal</th> <th>Bike #</th> <th>Subscriber Type</th> <th>Zip Code</th> <th>Trip Kind</th>\n",
       "        </tr>\n",
       "    </thead>\n",
       "    <tbody>\n",
       "        <tr>\n",
       "            <td>913460 </td> <td>765     </td> <td>8/31/2015 23:26</td> <td>Harry Bridges Plaza (Ferry Building)</td> <td>50            </td> <td>8/31/2015 23:39</td> <td>San Francisco Caltrain (Townsend at 4th)</td> <td>70          </td> <td>288   </td> <td>Subscriber     </td> <td>2139    </td> <td>one way  </td>\n",
       "        </tr>\n",
       "        <tr>\n",
       "            <td>913459 </td> <td>1036    </td> <td>8/31/2015 23:11</td> <td>San Antonio Shopping Center         </td> <td>31            </td> <td>8/31/2015 23:28</td> <td>Mountain View City Hall                 </td> <td>27          </td> <td>35    </td> <td>Subscriber     </td> <td>95032   </td> <td>one way  </td>\n",
       "        </tr>\n",
       "        <tr>\n",
       "            <td>913455 </td> <td>307     </td> <td>8/31/2015 23:13</td> <td>Post at Kearny                      </td> <td>47            </td> <td>8/31/2015 23:18</td> <td>2nd at South Park                       </td> <td>64          </td> <td>468   </td> <td>Subscriber     </td> <td>94107   </td> <td>one way  </td>\n",
       "        </tr>\n",
       "    </tbody>\n",
       "</table>\n",
       "<p>... (354149 rows omitted)</p>"
      ],
      "text/plain": [
       "<IPython.core.display.HTML object>"
      ]
     },
     "metadata": {},
     "output_type": "display_data"
    }
   ],
   "source": [
    "kinds = trip.with_column('Trip Kind', \n",
    "                         trip.apply(trip_kind, 'Start Station', 'End Station'))\n",
    "kinds.show(3)"
   ]
  },
  {
   "cell_type": "markdown",
   "metadata": {},
   "source": [
    "Pivotting to Trip Kind"
   ]
  },
  {
   "cell_type": "code",
   "execution_count": 42,
   "metadata": {},
   "outputs": [
    {
     "data": {
      "text/html": [
       "<table border=\"1\" class=\"dataframe\">\n",
       "    <thead>\n",
       "        <tr>\n",
       "            <th>Start Station</th> <th>one way</th> <th>round trip</th>\n",
       "        </tr>\n",
       "    </thead>\n",
       "    <tbody>\n",
       "        <tr>\n",
       "            <td>Embarcadero at Sansome                  </td> <td>6938   </td> <td>120       </td>\n",
       "        </tr>\n",
       "        <tr>\n",
       "            <td>Harry Bridges Plaza (Ferry Building)    </td> <td>8643   </td> <td>105       </td>\n",
       "        </tr>\n",
       "        <tr>\n",
       "            <td>San Francisco Caltrain 2 (330 Townsend) </td> <td>12021  </td> <td>104       </td>\n",
       "        </tr>\n",
       "        <tr>\n",
       "            <td>2nd at South Park                       </td> <td>6484   </td> <td>98        </td>\n",
       "        </tr>\n",
       "        <tr>\n",
       "            <td>San Francisco Caltrain (Townsend at 4th)</td> <td>11181  </td> <td>95        </td>\n",
       "        </tr>\n",
       "        <tr>\n",
       "            <td>2nd at Townsend                         </td> <td>9513   </td> <td>83        </td>\n",
       "        </tr>\n",
       "        <tr>\n",
       "            <td>Powell Street BART                      </td> <td>7156   </td> <td>81        </td>\n",
       "        </tr>\n",
       "        <tr>\n",
       "            <td>Market at 10th                          </td> <td>6599   </td> <td>80        </td>\n",
       "        </tr>\n",
       "        <tr>\n",
       "            <td>Civic Center BART (7th at Market)       </td> <td>5179   </td> <td>73        </td>\n",
       "        </tr>\n",
       "        <tr>\n",
       "            <td>Townsend at 7th                         </td> <td>8073   </td> <td>68        </td>\n",
       "        </tr>\n",
       "    </tbody>\n",
       "</table>"
      ],
      "text/plain": [
       "Start Station                            | one way | round trip\n",
       "Embarcadero at Sansome                   | 6938    | 120\n",
       "Harry Bridges Plaza (Ferry Building)     | 8643    | 105\n",
       "San Francisco Caltrain 2 (330 Townsend)  | 12021   | 104\n",
       "2nd at South Park                        | 6484    | 98\n",
       "San Francisco Caltrain (Townsend at 4th) | 11181   | 95\n",
       "2nd at Townsend                          | 9513    | 83\n",
       "Powell Street BART                       | 7156    | 81\n",
       "Market at 10th                           | 6599    | 80\n",
       "Civic Center BART (7th at Market)        | 5179    | 73\n",
       "Townsend at 7th                          | 8073    | 68"
      ]
     },
     "execution_count": 42,
     "metadata": {},
     "output_type": "execute_result"
    }
   ],
   "source": [
    "kinds_pivot = (\n",
    "    kinds\n",
    "    .where('Duration', are.below(600))\n",
    "    .pivot('Trip Kind', 'Start Station')\n",
    "    .sort(\"round trip\", descending=True)\n",
    "    .take(np.arange(10))\n",
    ")\n",
    "kinds_pivot"
   ]
  },
  {
   "cell_type": "markdown",
   "metadata": {},
   "source": [
    "<br><br>\n",
    "\n",
    "---\n",
    "\n",
    "<center> return to slides </center>\n",
    "\n",
    "---\n",
    "\n",
    "<br><br>"
   ]
  },
  {
   "cell_type": "markdown",
   "metadata": {},
   "source": [
    "<br><br><br><br>\n",
    "\n",
    "---\n",
    "\n",
    "## Simulation\n",
    "\n",
    "We will use simulation heavily in this class.  A key element of simulation is leveraging randomness. The numpy python library has many functions for generating random events. Today we will use the `np.random.choice` function:"
   ]
  },
  {
   "cell_type": "code",
   "execution_count": 2,
   "metadata": {},
   "outputs": [],
   "source": [
    "mornings = make_array('wake up', 'sleep in')"
   ]
  },
  {
   "cell_type": "code",
   "execution_count": 11,
   "metadata": {},
   "outputs": [
    {
     "data": {
      "text/plain": [
       "'sleep in'"
      ]
     },
     "execution_count": 11,
     "metadata": {},
     "output_type": "execute_result"
    }
   ],
   "source": [
    "np.random.choice(mornings)"
   ]
  },
  {
   "cell_type": "code",
   "execution_count": 12,
   "metadata": {},
   "outputs": [
    {
     "data": {
      "text/plain": [
       "'sleep in'"
      ]
     },
     "execution_count": 12,
     "metadata": {},
     "output_type": "execute_result"
    }
   ],
   "source": [
    "np.random.choice(mornings)"
   ]
  },
  {
   "cell_type": "code",
   "execution_count": 21,
   "metadata": {},
   "outputs": [
    {
     "data": {
      "text/plain": [
       "'sleep in'"
      ]
     },
     "execution_count": 21,
     "metadata": {},
     "output_type": "execute_result"
    }
   ],
   "source": [
    "np.random.choice(mornings)"
   ]
  },
  {
   "cell_type": "markdown",
   "metadata": {},
   "source": [
    "We can also pass an argument that specifies how many times to make a random choice:"
   ]
  },
  {
   "cell_type": "code",
   "execution_count": 26,
   "metadata": {},
   "outputs": [
    {
     "data": {
      "text/plain": [
       "array(['wake up', 'sleep in', 'wake up', 'wake up', 'sleep in', 'sleep in',\n",
       "       'wake up'],\n",
       "      dtype='<U8')"
      ]
     },
     "execution_count": 26,
     "metadata": {},
     "output_type": "execute_result"
    }
   ],
   "source": [
    "np.random.choice(mornings, 7)"
   ]
  },
  {
   "cell_type": "code",
   "execution_count": 27,
   "metadata": {},
   "outputs": [
    {
     "data": {
      "text/plain": [
       "array(['wake up', 'wake up', 'sleep in', 'wake up', 'wake up', 'sleep in',\n",
       "       'sleep in'],\n",
       "      dtype='<U8')"
      ]
     },
     "execution_count": 27,
     "metadata": {},
     "output_type": "execute_result"
    }
   ],
   "source": [
    "np.random.choice(mornings, 7)"
   ]
  },
  {
   "cell_type": "code",
   "execution_count": 49,
   "metadata": {},
   "outputs": [
    {
     "data": {
      "text/plain": [
       "array(['wake up', 'sleep in', 'wake up', 'wake up', 'sleep in', 'sleep in',\n",
       "       'wake up'],\n",
       "      dtype='<U8')"
      ]
     },
     "execution_count": 49,
     "metadata": {},
     "output_type": "execute_result"
    }
   ],
   "source": [
    "morning_week = np.random.choice(mornings, 7)\n",
    "morning_week"
   ]
  },
  {
   "cell_type": "code",
   "execution_count": 50,
   "metadata": {},
   "outputs": [
    {
     "data": {
      "text/plain": [
       "4"
      ]
     },
     "execution_count": 50,
     "metadata": {},
     "output_type": "execute_result"
    }
   ],
   "source": [
    "sum(morning_week == 'wake up')"
   ]
  },
  {
   "cell_type": "code",
   "execution_count": 51,
   "metadata": {},
   "outputs": [
    {
     "data": {
      "text/plain": [
       "3"
      ]
     },
     "execution_count": 51,
     "metadata": {},
     "output_type": "execute_result"
    }
   ],
   "source": [
    "sum(morning_week == 'sleep in')"
   ]
  },
  {
   "cell_type": "code",
   "execution_count": 52,
   "metadata": {},
   "outputs": [
    {
     "data": {
      "text/plain": [
       "0.42857142857142855"
      ]
     },
     "execution_count": 52,
     "metadata": {},
     "output_type": "execute_result"
    }
   ],
   "source": [
    "np.mean(morning_week == 'sleep in')"
   ]
  },
  {
   "cell_type": "markdown",
   "metadata": {},
   "source": [
    "**Bonus:** In this class, we will be using pseudorandom number generators which means that the random numbers aren't really random but instead repeatable. We can control the sequence by setting a seed:"
   ]
  },
  {
   "cell_type": "code",
   "execution_count": 53,
   "metadata": {},
   "outputs": [
    {
     "data": {
      "text/plain": [
       "2"
      ]
     },
     "execution_count": 53,
     "metadata": {},
     "output_type": "execute_result"
    }
   ],
   "source": [
    "np.random.seed(42)\n",
    "np.sum(np.random.choice(mornings, 7) == \"sleep in\")"
   ]
  },
  {
   "cell_type": "markdown",
   "metadata": {},
   "source": [
    "<br><br> \n",
    "### Playing a Game of Chance"
   ]
  },
  {
   "cell_type": "markdown",
   "metadata": {},
   "source": [
    "Let's play a game: we each roll a die. \n",
    "\n",
    "If my number is bigger: you pay me a dollar.\n",
    "\n",
    "If they're the same: we do nothing.\n",
    "\n",
    "If your number is bigger: I pay you a dollar."
   ]
  },
  {
   "cell_type": "markdown",
   "metadata": {},
   "source": [
    "Steps:\n",
    "1. Find a way to simulate two dice rolls.\n",
    "2. Compute how much money we win/lose based on the result.\n",
    "3. Do steps 1 and 2 10,000 times."
   ]
  },
  {
   "cell_type": "markdown",
   "metadata": {},
   "source": [
    "### Simulating the roll of a die"
   ]
  },
  {
   "cell_type": "code",
   "execution_count": 54,
   "metadata": {},
   "outputs": [
    {
     "data": {
      "text/plain": [
       "array([1, 2, 3, 4, 5, 6])"
      ]
     },
     "execution_count": 54,
     "metadata": {},
     "output_type": "execute_result"
    }
   ],
   "source": [
    "die_faces = np.arange(1, 7)\n",
    "die_faces"
   ]
  },
  {
   "cell_type": "code",
   "execution_count": 55,
   "metadata": {},
   "outputs": [
    {
     "data": {
      "text/plain": [
       "5"
      ]
     },
     "execution_count": 55,
     "metadata": {},
     "output_type": "execute_result"
    }
   ],
   "source": [
    "np.random.choice(die_faces)"
   ]
  },
  {
   "cell_type": "markdown",
   "metadata": {},
   "source": [
    "<br><br><br><br>\n",
    "**Exercise:** Implement a function to simulate a single round of play and returns the result."
   ]
  },
  {
   "cell_type": "code",
   "execution_count": 56,
   "metadata": {},
   "outputs": [],
   "source": [
    "def simulate_one_round():\n",
    "    my_roll = np.random.choice(die_faces)\n",
    "    your_roll = np.random.choice(die_faces)\n",
    "\n",
    "    if my_roll > your_roll:\n",
    "        return 1\n",
    "    elif my_roll < your_roll:\n",
    "        return -1\n",
    "    else:\n",
    "        return 0"
   ]
  },
  {
   "cell_type": "markdown",
   "metadata": {},
   "source": [
    "<br>\n",
    "<details><summary>Click for Solution</summary><br>\n",
    "    \n",
    "```python\n",
    "def simulate_one_round():\n",
    "    my_roll = np.random.choice(die_faces)\n",
    "    your_roll = np.random.choice(die_faces)\n",
    "\n",
    "    if my_roll > your_roll:\n",
    "        return 1\n",
    "    elif my_roll < your_roll:\n",
    "        return -1\n",
    "    else:\n",
    "        return 0\n",
    "```\n",
    "    <br>\n",
    "</details>"
   ]
  },
  {
   "cell_type": "code",
   "execution_count": 57,
   "metadata": {},
   "outputs": [
    {
     "data": {
      "text/plain": [
       "-1"
      ]
     },
     "execution_count": 57,
     "metadata": {},
     "output_type": "execute_result"
    }
   ],
   "source": [
    "simulate_one_round()"
   ]
  },
  {
   "cell_type": "markdown",
   "metadata": {},
   "source": [
    "<br><br>\n",
    "\n",
    "---\n",
    "\n",
    "<center> return to slides </center>\n",
    "\n",
    "---\n",
    "\n",
    "<br><br>"
   ]
  },
  {
   "cell_type": "markdown",
   "metadata": {},
   "source": [
    "## `For` Statements\n",
    "\n",
    "The for statement is another way to apply code to each element in a list or an array."
   ]
  },
  {
   "cell_type": "code",
   "execution_count": 58,
   "metadata": {
    "scrolled": true
   },
   "outputs": [
    {
     "name": "stdout",
     "output_type": "stream",
     "text": [
      "I love my cat\n",
      "I love my dog\n",
      "I love my rabbit\n"
     ]
    }
   ],
   "source": [
    "for pet in make_array('cat', 'dog', 'rabbit'):\n",
    "    print('I love my ' + pet)"
   ]
  },
  {
   "cell_type": "markdown",
   "metadata": {},
   "source": [
    "**Exercise:** What is the output of this for loop?"
   ]
  },
  {
   "cell_type": "code",
   "execution_count": 59,
   "metadata": {},
   "outputs": [
    {
     "name": "stdout",
     "output_type": "stream",
     "text": [
      "1\n",
      "3\n",
      "6\n",
      "The final value of x is: 6\n"
     ]
    }
   ],
   "source": [
    "x = 0\n",
    "for i in np.arange(1, 4):\n",
    "    x = x + i\n",
    "    print(x)\n",
    "\n",
    "print(\"The final value of x is:\", x)"
   ]
  },
  {
   "cell_type": "markdown",
   "metadata": {},
   "source": [
    "<br><br><br><br>\n",
    "**Exercise:** Use a for loop to simulate the total outcome of 10,000 plays of our game of chance:"
   ]
  },
  {
   "cell_type": "code",
   "execution_count": 60,
   "metadata": {},
   "outputs": [
    {
     "name": "stdout",
     "output_type": "stream",
     "text": [
      "I win 18 dollars.\n"
     ]
    }
   ],
   "source": [
    "N = 10_000\n",
    "winnings = 0\n",
    "\n",
    "for i in np.arange(N):\n",
    "    winnings = winnings + simulate_one_round()\n",
    "    \n",
    "print(\"I win\", winnings, \"dollars.\")"
   ]
  },
  {
   "cell_type": "markdown",
   "metadata": {},
   "source": [
    "<details><summary> Click for Solution</summary>\n",
    "    \n",
    "```python\n",
    "N = 10_000\n",
    "winnings = 0\n",
    "\n",
    "for i in np.arange(N):\n",
    "    winnings = winnings + simulate_one_round()\n",
    "    \n",
    "print(\"I win\", winnings, \"dollars.\")\n",
    "```\n",
    "</details>"
   ]
  },
  {
   "cell_type": "markdown",
   "metadata": {},
   "source": [
    "<br><br><br>\n",
    "**Bonus Exercise:** Use table functions to simulate 10,000 rounds of play:"
   ]
  },
  {
   "cell_type": "code",
   "execution_count": 61,
   "metadata": {},
   "outputs": [
    {
     "data": {
      "text/html": [
       "<table border=\"1\" class=\"dataframe\">\n",
       "    <thead>\n",
       "        <tr>\n",
       "            <th>my roll</th> <th>your roll</th> <th>outcome</th>\n",
       "        </tr>\n",
       "    </thead>\n",
       "    <tbody>\n",
       "        <tr>\n",
       "            <td>5      </td> <td>6        </td> <td>-1     </td>\n",
       "        </tr>\n",
       "        <tr>\n",
       "            <td>5      </td> <td>6        </td> <td>-1     </td>\n",
       "        </tr>\n",
       "        <tr>\n",
       "            <td>6      </td> <td>3        </td> <td>1      </td>\n",
       "        </tr>\n",
       "        <tr>\n",
       "            <td>2      </td> <td>5        </td> <td>-1     </td>\n",
       "        </tr>\n",
       "        <tr>\n",
       "            <td>5      </td> <td>3        </td> <td>1      </td>\n",
       "        </tr>\n",
       "        <tr>\n",
       "            <td>5      </td> <td>4        </td> <td>1      </td>\n",
       "        </tr>\n",
       "        <tr>\n",
       "            <td>2      </td> <td>2        </td> <td>0      </td>\n",
       "        </tr>\n",
       "        <tr>\n",
       "            <td>4      </td> <td>6        </td> <td>-1     </td>\n",
       "        </tr>\n",
       "        <tr>\n",
       "            <td>2      </td> <td>4        </td> <td>-1     </td>\n",
       "        </tr>\n",
       "        <tr>\n",
       "            <td>1      </td> <td>5        </td> <td>-1     </td>\n",
       "        </tr>\n",
       "    </tbody>\n",
       "</table>\n",
       "<p>... (9990 rows omitted)</p>"
      ],
      "text/plain": [
       "my roll | your roll | outcome\n",
       "5       | 6         | -1\n",
       "5       | 6         | -1\n",
       "6       | 3         | 1\n",
       "2       | 5         | -1\n",
       "5       | 3         | 1\n",
       "5       | 4         | 1\n",
       "2       | 2         | 0\n",
       "4       | 6         | -1\n",
       "2       | 4         | -1\n",
       "1       | 5         | -1\n",
       "... (9990 rows omitted)"
      ]
     },
     "execution_count": 61,
     "metadata": {},
     "output_type": "execute_result"
    }
   ],
   "source": [
    "N = 10_000\n",
    "rolls = Table().with_columns(\n",
    "    \"my roll\", np.random.choice(die_faces, N),\n",
    "    \"your roll\", np.random.choice(die_faces, N)\n",
    ")\n",
    "\n",
    "my_roll = rolls.column(\"my roll\")\n",
    "your_roll = rolls.column(\"your roll\")\n",
    "outcome = 1*(my_roll > your_roll) + -1*(my_roll < your_roll)\n",
    "\n",
    "rolls = rolls.with_column(\"outcome\", outcome)\n",
    "rolls"
   ]
  },
  {
   "cell_type": "markdown",
   "metadata": {},
   "source": [
    "<br><details><summary> Click for Solution</summary><br>\n",
    "    \n",
    "```python\n",
    "N = 10_000\n",
    "rolls = Table().with_columns(\n",
    "    \"my roll\", np.random.choice(die_faces, N),\n",
    "    \"your roll\", np.random.choice(die_faces, N)\n",
    ")\n",
    "\n",
    "my_roll = rolls.column(\"my roll\")\n",
    "your_roll = rolls.column(\"your roll\")\n",
    "outcome = 1*(my_roll > your_roll) + -1*(my_roll < your_roll)\n",
    "\n",
    "rolls = rolls.with_column(\"outcome\", outcome)\n",
    "rolls\n",
    "```\n",
    "</details>"
   ]
  },
  {
   "cell_type": "code",
   "execution_count": 62,
   "metadata": {},
   "outputs": [
    {
     "name": "stdout",
     "output_type": "stream",
     "text": [
      "My total winnings: -126\n"
     ]
    }
   ],
   "source": [
    "print(\"My total winnings:\", rolls.column(\"outcome\").sum())"
   ]
  },
  {
   "cell_type": "markdown",
   "metadata": {},
   "source": [
    "<br><br>\n",
    "\n",
    "---\n",
    "\n",
    "<center> return to slides </center>\n",
    "\n",
    "---\n",
    "\n",
    "<br><br>"
   ]
  },
  {
   "cell_type": "markdown",
   "metadata": {},
   "source": [
    "<br><br><br>\n",
    "\n",
    "---\n",
    "\n",
    "## Appending Arrays\n",
    "\n",
    "Sometimes we will want to collect the outcomes of our simulations into a single array.  We can do this by appending each experiment to the end of an array using the numpy `np.append` function."
   ]
  },
  {
   "cell_type": "code",
   "execution_count": 63,
   "metadata": {},
   "outputs": [],
   "source": [
    "first = np.arange(4)\n",
    "second = np.arange(10, 17)"
   ]
  },
  {
   "cell_type": "code",
   "execution_count": 64,
   "metadata": {},
   "outputs": [
    {
     "data": {
      "text/plain": [
       "array([0, 1, 2, 3, 6])"
      ]
     },
     "execution_count": 64,
     "metadata": {},
     "output_type": "execute_result"
    }
   ],
   "source": [
    "np.append(first, 6)"
   ]
  },
  {
   "cell_type": "code",
   "execution_count": 65,
   "metadata": {},
   "outputs": [
    {
     "data": {
      "text/plain": [
       "array([0, 1, 2, 3])"
      ]
     },
     "execution_count": 65,
     "metadata": {},
     "output_type": "execute_result"
    }
   ],
   "source": [
    "first"
   ]
  },
  {
   "cell_type": "code",
   "execution_count": 66,
   "metadata": {},
   "outputs": [
    {
     "data": {
      "text/plain": [
       "array([ 0,  1,  2,  3, 10, 11, 12, 13, 14, 15, 16])"
      ]
     },
     "execution_count": 66,
     "metadata": {},
     "output_type": "execute_result"
    }
   ],
   "source": [
    "np.append(first, second)"
   ]
  },
  {
   "cell_type": "code",
   "execution_count": 67,
   "metadata": {},
   "outputs": [
    {
     "data": {
      "text/plain": [
       "array([0, 1, 2, 3])"
      ]
     },
     "execution_count": 67,
     "metadata": {},
     "output_type": "execute_result"
    }
   ],
   "source": [
    "first"
   ]
  },
  {
   "cell_type": "code",
   "execution_count": 68,
   "metadata": {},
   "outputs": [
    {
     "data": {
      "text/plain": [
       "array([10, 11, 12, 13, 14, 15, 16])"
      ]
     },
     "execution_count": 68,
     "metadata": {},
     "output_type": "execute_result"
    }
   ],
   "source": [
    "second"
   ]
  },
  {
   "cell_type": "markdown",
   "metadata": {},
   "source": [
    "**Exercise:** Use append to record the outcomes of all the games rather than just the total."
   ]
  },
  {
   "cell_type": "code",
   "execution_count": 69,
   "metadata": {},
   "outputs": [
    {
     "data": {
      "text/plain": [
       "array([-1.,  0.,  1., ..., -1., -1.,  0.])"
      ]
     },
     "execution_count": 69,
     "metadata": {},
     "output_type": "execute_result"
    }
   ],
   "source": [
    "N = 10_000\n",
    "\n",
    "game_outcomes = make_array()\n",
    "\n",
    "for i in np.arange(N):\n",
    "    game_outcomes = np.append(game_outcomes, simulate_one_round())\n",
    "    \n",
    "game_outcomes\n"
   ]
  },
  {
   "cell_type": "markdown",
   "metadata": {},
   "source": [
    "<details><summary>Click for Solution</summary>\n",
    "    \n",
    "```python\n",
    "N = 10_000\n",
    "\n",
    "game_outcomes = make_array()\n",
    "\n",
    "for i in np.arange(N):\n",
    "    game_outcomes = np.append(game_outcomes, simulate_one_round())\n",
    "    \n",
    "game_outcomes\n",
    "```\n",
    "\n",
    "</details>"
   ]
  },
  {
   "cell_type": "markdown",
   "metadata": {},
   "source": [
    "<br><br><br><br>\n",
    "\n",
    "### Another example: simulating heads in 100 coin tosses\n",
    "\n",
    "Suppose we simulate 100 coin tosses.  What fraction will be heads?  What if we simulate 100 coin tosses thousands of times.  What fraction will be heads?"
   ]
  },
  {
   "cell_type": "code",
   "execution_count": 71,
   "metadata": {},
   "outputs": [],
   "source": [
    "coin = make_array('heads', 'tails')"
   ]
  },
  {
   "cell_type": "code",
   "execution_count": 72,
   "metadata": {},
   "outputs": [
    {
     "data": {
      "text/plain": [
       "46"
      ]
     },
     "execution_count": 72,
     "metadata": {},
     "output_type": "execute_result"
    }
   ],
   "source": [
    "sum(np.random.choice(coin, 100) == 'heads')"
   ]
  },
  {
   "cell_type": "code",
   "execution_count": 73,
   "metadata": {},
   "outputs": [],
   "source": [
    "# Simulate one outcome\n",
    "\n",
    "def num_heads():\n",
    "    return sum(np.random.choice(coin, 100) == 'heads')"
   ]
  },
  {
   "cell_type": "code",
   "execution_count": 74,
   "metadata": {},
   "outputs": [],
   "source": [
    "# Decide how many times you want to repeat the experiment\n",
    "\n",
    "repetitions = 10000"
   ]
  },
  {
   "cell_type": "code",
   "execution_count": 75,
   "metadata": {},
   "outputs": [],
   "source": [
    "# Simulate that many outcomes\n",
    "\n",
    "outcomes = make_array()\n",
    "\n",
    "for i in np.arange(repetitions):\n",
    "    outcomes = np.append(outcomes, num_heads())"
   ]
  },
  {
   "cell_type": "code",
   "execution_count": 76,
   "metadata": {},
   "outputs": [
    {
     "data": {
      "image/png": "[encoded data removed]",
      "text/plain": [
       "<Figure size 600x400 with 1 Axes>"
      ]
     },
     "metadata": {},
     "output_type": "display_data"
    }
   ],
   "source": [
    "heads = Table().with_column('Heads', outcomes)\n",
    "heads.hist(bins = np.arange(29.5, 70.6))"
   ]
  },
  {
   "cell_type": "markdown",
   "metadata": {},
   "source": [
    "<br><br><br><br>\n",
    "\n",
    "--- \n",
    "## Optional: Advanced `where`\n",
    "\n",
    "Sometimes the `are.above_or_equal_to` style syntax will be painful to use.  We can instead construct an array of booleans to select rows from our table.  This will allow us to select rows based on complex boolean expressions spanning multiple columns. "
   ]
  },
  {
   "cell_type": "code",
   "execution_count": 77,
   "metadata": {},
   "outputs": [
    {
     "data": {
      "text/html": [
       "<table border=\"1\" class=\"dataframe\">\n",
       "    <thead>\n",
       "        <tr>\n",
       "            <th>Patient Id</th> <th>Age</th>\n",
       "        </tr>\n",
       "    </thead>\n",
       "    <tbody>\n",
       "        <tr>\n",
       "            <td>1000      </td> <td>16  </td>\n",
       "        </tr>\n",
       "        <tr>\n",
       "            <td>1001      </td> <td>22  </td>\n",
       "        </tr>\n",
       "        <tr>\n",
       "            <td>1002      </td> <td>18  </td>\n",
       "        </tr>\n",
       "        <tr>\n",
       "            <td>1003      </td> <td>15  </td>\n",
       "        </tr>\n",
       "        <tr>\n",
       "            <td>1004      </td> <td>19  </td>\n",
       "        </tr>\n",
       "        <tr>\n",
       "            <td>1005      </td> <td>39  </td>\n",
       "        </tr>\n",
       "        <tr>\n",
       "            <td>1006      </td> <td>27  </td>\n",
       "        </tr>\n",
       "        <tr>\n",
       "            <td>1007      </td> <td>21  </td>\n",
       "        </tr>\n",
       "    </tbody>\n",
       "</table>"
      ],
      "text/plain": [
       "Patient Id | Age\n",
       "1000       | 16\n",
       "1001       | 22\n",
       "1002       | 18\n",
       "1003       | 15\n",
       "1004       | 19\n",
       "1005       | 39\n",
       "1006       | 27\n",
       "1007       | 21"
      ]
     },
     "execution_count": 77,
     "metadata": {},
     "output_type": "execute_result"
    }
   ],
   "source": [
    "ages = make_array(16, 22, 18, 15, 19, 39, 27, 21)\n",
    "patients = Table().with_columns(\"Patient Id\", np.arange(len(ages))+1000, 'Age', ages,)\n",
    "patients"
   ]
  },
  {
   "cell_type": "markdown",
   "metadata": {},
   "source": [
    "**Exercise:** Find all the patients that are older than 21 or have a Patient Id that is even:"
   ]
  },
  {
   "cell_type": "code",
   "execution_count": 78,
   "metadata": {},
   "outputs": [
    {
     "data": {
      "text/plain": [
       "array([False,  True, False, False, False,  True,  True, False], dtype=bool)"
      ]
     },
     "execution_count": 78,
     "metadata": {},
     "output_type": "execute_result"
    }
   ],
   "source": [
    "older = patients.column(\"Age\") > 21\n",
    "older"
   ]
  },
  {
   "cell_type": "code",
   "execution_count": 79,
   "metadata": {},
   "outputs": [
    {
     "data": {
      "text/html": [
       "<table border=\"1\" class=\"dataframe\">\n",
       "    <thead>\n",
       "        <tr>\n",
       "            <th>Patient Id</th> <th>Age</th>\n",
       "        </tr>\n",
       "    </thead>\n",
       "    <tbody>\n",
       "        <tr>\n",
       "            <td>1001      </td> <td>22  </td>\n",
       "        </tr>\n",
       "        <tr>\n",
       "            <td>1005      </td> <td>39  </td>\n",
       "        </tr>\n",
       "        <tr>\n",
       "            <td>1006      </td> <td>27  </td>\n",
       "        </tr>\n",
       "    </tbody>\n",
       "</table>"
      ],
      "text/plain": [
       "Patient Id | Age\n",
       "1001       | 22\n",
       "1005       | 39\n",
       "1006       | 27"
      ]
     },
     "execution_count": 79,
     "metadata": {},
     "output_type": "execute_result"
    }
   ],
   "source": [
    "patients.where(older)"
   ]
  },
  {
   "cell_type": "markdown",
   "metadata": {},
   "source": [
    "To compute the even patient ids, we can use the `%` modulus operator:"
   ]
  },
  {
   "cell_type": "code",
   "execution_count": 80,
   "metadata": {},
   "outputs": [
    {
     "data": {
      "text/plain": [
       "array([0, 1, 0, 1, 0, 1, 0, 1], dtype=int32)"
      ]
     },
     "execution_count": 80,
     "metadata": {},
     "output_type": "execute_result"
    }
   ],
   "source": [
    "patients.column(\"Patient Id\") % 2"
   ]
  },
  {
   "cell_type": "code",
   "execution_count": 81,
   "metadata": {},
   "outputs": [
    {
     "data": {
      "text/plain": [
       "array([ True, False,  True, False,  True, False,  True, False], dtype=bool)"
      ]
     },
     "execution_count": 81,
     "metadata": {},
     "output_type": "execute_result"
    }
   ],
   "source": [
    "even_ids = patients.column(\"Patient Id\") % 2 == 0\n",
    "even_ids"
   ]
  },
  {
   "cell_type": "code",
   "execution_count": 82,
   "metadata": {},
   "outputs": [
    {
     "data": {
      "text/html": [
       "<table border=\"1\" class=\"dataframe\">\n",
       "    <thead>\n",
       "        <tr>\n",
       "            <th>Patient Id</th> <th>Age</th>\n",
       "        </tr>\n",
       "    </thead>\n",
       "    <tbody>\n",
       "        <tr>\n",
       "            <td>1000      </td> <td>16  </td>\n",
       "        </tr>\n",
       "        <tr>\n",
       "            <td>1002      </td> <td>18  </td>\n",
       "        </tr>\n",
       "        <tr>\n",
       "            <td>1004      </td> <td>19  </td>\n",
       "        </tr>\n",
       "        <tr>\n",
       "            <td>1006      </td> <td>27  </td>\n",
       "        </tr>\n",
       "    </tbody>\n",
       "</table>"
      ],
      "text/plain": [
       "Patient Id | Age\n",
       "1000       | 16\n",
       "1002       | 18\n",
       "1004       | 19\n",
       "1006       | 27"
      ]
     },
     "execution_count": 82,
     "metadata": {},
     "output_type": "execute_result"
    }
   ],
   "source": [
    "patients.where(even_ids)"
   ]
  },
  {
   "cell_type": "code",
   "execution_count": 83,
   "metadata": {},
   "outputs": [
    {
     "data": {
      "text/html": [
       "<table border=\"1\" class=\"dataframe\">\n",
       "    <thead>\n",
       "        <tr>\n",
       "            <th>Patient Id</th> <th>Age</th>\n",
       "        </tr>\n",
       "    </thead>\n",
       "    <tbody>\n",
       "        <tr>\n",
       "            <td>1000      </td> <td>16  </td>\n",
       "        </tr>\n",
       "        <tr>\n",
       "            <td>1001      </td> <td>22  </td>\n",
       "        </tr>\n",
       "        <tr>\n",
       "            <td>1002      </td> <td>18  </td>\n",
       "        </tr>\n",
       "        <tr>\n",
       "            <td>1004      </td> <td>19  </td>\n",
       "        </tr>\n",
       "        <tr>\n",
       "            <td>1005      </td> <td>39  </td>\n",
       "        </tr>\n",
       "        <tr>\n",
       "            <td>1006      </td> <td>27  </td>\n",
       "        </tr>\n",
       "    </tbody>\n",
       "</table>"
      ],
      "text/plain": [
       "Patient Id | Age\n",
       "1000       | 16\n",
       "1001       | 22\n",
       "1002       | 18\n",
       "1004       | 19\n",
       "1005       | 39\n",
       "1006       | 27"
      ]
     },
     "execution_count": 83,
     "metadata": {},
     "output_type": "execute_result"
    }
   ],
   "source": [
    "patients.where(even_ids | older)"
   ]
  }
 ],
 "metadata": {
  "anaconda-cloud": {},
  "kernelspec": {
   "display_name": "Python 3",
   "language": "python",
   "name": "python3"
  },
  "language_info": {
   "codemirror_mode": {
    "name": "ipython",
    "version": 3
   },
   "file_extension": ".py",
   "mimetype": "text/x-python",
   "name": "python",
   "nbconvert_exporter": "python",
   "pygments_lexer": "ipython3",
   "version": "3.11.1"
  }
 },
 "nbformat": 4,
 "nbformat_minor": 4
}
